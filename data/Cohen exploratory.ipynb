{
 "cells": [
  {
   "cell_type": "code",
   "execution_count": 6,
   "metadata": {
    "collapsed": false
   },
   "outputs": [
    {
     "name": "stdout",
     "output_type": "stream",
     "text": [
      "The autoreload extension is already loaded. To reload it, use:\n",
      "  %reload_ext autoreload\n"
     ]
    }
   ],
   "source": [
    "%load_ext autoreload\n",
    "%autoreload 2\n",
    "import os\n",
    "import glob\n",
    "import random\n",
    "import re\n",
    "from datetime import *\n",
    "from pprint import pprint\n",
    "import itertools \n",
    "import pandas as pd"
   ]
  },
  {
   "cell_type": "code",
   "execution_count": 7,
   "metadata": {
    "collapsed": true
   },
   "outputs": [],
   "source": [
    "path = ''\n",
    "file = 'Montgomery_datatemp04.dta'"
   ]
  },
  {
   "cell_type": "code",
   "execution_count": 13,
   "metadata": {
    "collapsed": false
   },
   "outputs": [
    {
     "data": {
      "text/html": [
       "<div>\n",
       "<table border=\"1\" class=\"dataframe\">\n",
       "  <thead>\n",
       "    <tr style=\"text-align: right;\">\n",
       "      <th></th>\n",
       "      <th>iso3_o</th>\n",
       "      <th>iso3_d</th>\n",
       "      <th>Year</th>\n",
       "      <th>inflow</th>\n",
       "      <th>id</th>\n",
       "      <th>iso2_o</th>\n",
       "      <th>iso2_d</th>\n",
       "      <th>contig</th>\n",
       "      <th>comlang_off</th>\n",
       "      <th>comlang_ethno</th>\n",
       "      <th>...</th>\n",
       "      <th>entry_proc_o</th>\n",
       "      <th>entry_proc_d</th>\n",
       "      <th>entry_time_o</th>\n",
       "      <th>entry_time_d</th>\n",
       "      <th>entry_tp_o</th>\n",
       "      <th>entry_tp_d</th>\n",
       "      <th>eu_o</th>\n",
       "      <th>eu_d</th>\n",
       "      <th>gdppcp_o</th>\n",
       "      <th>gdppcp_d</th>\n",
       "    </tr>\n",
       "  </thead>\n",
       "  <tbody>\n",
       "    <tr>\n",
       "      <th>0</th>\n",
       "      <td>AFG</td>\n",
       "      <td>AUS</td>\n",
       "      <td>2000</td>\n",
       "      <td>1326</td>\n",
       "      <td>1</td>\n",
       "      <td>AF</td>\n",
       "      <td>AU</td>\n",
       "      <td>0.0</td>\n",
       "      <td>0.0</td>\n",
       "      <td>0.0</td>\n",
       "      <td>...</td>\n",
       "      <td>NaN</td>\n",
       "      <td>NaN</td>\n",
       "      <td>NaN</td>\n",
       "      <td>NaN</td>\n",
       "      <td>NaN</td>\n",
       "      <td>NaN</td>\n",
       "      <td>0.0</td>\n",
       "      <td>0.0</td>\n",
       "      <td>NaN</td>\n",
       "      <td>26374.71575</td>\n",
       "    </tr>\n",
       "    <tr>\n",
       "      <th>1</th>\n",
       "      <td>AGO</td>\n",
       "      <td>AUS</td>\n",
       "      <td>2000</td>\n",
       "      <td>3</td>\n",
       "      <td>33</td>\n",
       "      <td>AO</td>\n",
       "      <td>AU</td>\n",
       "      <td>0.0</td>\n",
       "      <td>0.0</td>\n",
       "      <td>0.0</td>\n",
       "      <td>...</td>\n",
       "      <td>NaN</td>\n",
       "      <td>NaN</td>\n",
       "      <td>NaN</td>\n",
       "      <td>NaN</td>\n",
       "      <td>NaN</td>\n",
       "      <td>NaN</td>\n",
       "      <td>0.0</td>\n",
       "      <td>0.0</td>\n",
       "      <td>3036.559728</td>\n",
       "      <td>26374.71575</td>\n",
       "    </tr>\n",
       "    <tr>\n",
       "      <th>2</th>\n",
       "      <td>ALB</td>\n",
       "      <td>AUS</td>\n",
       "      <td>2000</td>\n",
       "      <td>59</td>\n",
       "      <td>62</td>\n",
       "      <td>AL</td>\n",
       "      <td>AU</td>\n",
       "      <td>0.0</td>\n",
       "      <td>0.0</td>\n",
       "      <td>0.0</td>\n",
       "      <td>...</td>\n",
       "      <td>NaN</td>\n",
       "      <td>NaN</td>\n",
       "      <td>NaN</td>\n",
       "      <td>NaN</td>\n",
       "      <td>NaN</td>\n",
       "      <td>NaN</td>\n",
       "      <td>0.0</td>\n",
       "      <td>0.0</td>\n",
       "      <td>4026.537421</td>\n",
       "      <td>26374.71575</td>\n",
       "    </tr>\n",
       "    <tr>\n",
       "      <th>3</th>\n",
       "      <td>ARE</td>\n",
       "      <td>AUS</td>\n",
       "      <td>2000</td>\n",
       "      <td>0</td>\n",
       "      <td>97</td>\n",
       "      <td>AE</td>\n",
       "      <td>AU</td>\n",
       "      <td>0.0</td>\n",
       "      <td>0.0</td>\n",
       "      <td>0.0</td>\n",
       "      <td>...</td>\n",
       "      <td>NaN</td>\n",
       "      <td>NaN</td>\n",
       "      <td>NaN</td>\n",
       "      <td>NaN</td>\n",
       "      <td>NaN</td>\n",
       "      <td>NaN</td>\n",
       "      <td>0.0</td>\n",
       "      <td>0.0</td>\n",
       "      <td>84974.894090</td>\n",
       "      <td>26374.71575</td>\n",
       "    </tr>\n",
       "    <tr>\n",
       "      <th>4</th>\n",
       "      <td>ARG</td>\n",
       "      <td>AUS</td>\n",
       "      <td>2000</td>\n",
       "      <td>3</td>\n",
       "      <td>113</td>\n",
       "      <td>AR</td>\n",
       "      <td>AU</td>\n",
       "      <td>0.0</td>\n",
       "      <td>0.0</td>\n",
       "      <td>0.0</td>\n",
       "      <td>...</td>\n",
       "      <td>NaN</td>\n",
       "      <td>NaN</td>\n",
       "      <td>NaN</td>\n",
       "      <td>NaN</td>\n",
       "      <td>NaN</td>\n",
       "      <td>NaN</td>\n",
       "      <td>0.0</td>\n",
       "      <td>0.0</td>\n",
       "      <td>11829.484050</td>\n",
       "      <td>26374.71575</td>\n",
       "    </tr>\n",
       "  </tbody>\n",
       "</table>\n",
       "<p>5 rows × 68 columns</p>\n",
       "</div>"
      ],
      "text/plain": [
       "  iso3_o iso3_d  Year  inflow   id iso2_o iso2_d  contig  comlang_off  \\\n",
       "0    AFG    AUS  2000    1326    1     AF     AU     0.0          0.0   \n",
       "1    AGO    AUS  2000       3   33     AO     AU     0.0          0.0   \n",
       "2    ALB    AUS  2000      59   62     AL     AU     0.0          0.0   \n",
       "3    ARE    AUS  2000       0   97     AE     AU     0.0          0.0   \n",
       "4    ARG    AUS  2000       3  113     AR     AU     0.0          0.0   \n",
       "\n",
       "   comlang_ethno     ...       entry_proc_o  entry_proc_d  entry_time_o  \\\n",
       "0            0.0     ...                NaN           NaN           NaN   \n",
       "1            0.0     ...                NaN           NaN           NaN   \n",
       "2            0.0     ...                NaN           NaN           NaN   \n",
       "3            0.0     ...                NaN           NaN           NaN   \n",
       "4            0.0     ...                NaN           NaN           NaN   \n",
       "\n",
       "   entry_time_d  entry_tp_o  entry_tp_d  eu_o  eu_d      gdppcp_o     gdppcp_d  \n",
       "0           NaN         NaN         NaN   0.0   0.0           NaN  26374.71575  \n",
       "1           NaN         NaN         NaN   0.0   0.0   3036.559728  26374.71575  \n",
       "2           NaN         NaN         NaN   0.0   0.0   4026.537421  26374.71575  \n",
       "3           NaN         NaN         NaN   0.0   0.0  84974.894090  26374.71575  \n",
       "4           NaN         NaN         NaN   0.0   0.0  11829.484050  26374.71575  \n",
       "\n",
       "[5 rows x 68 columns]"
      ]
     },
     "execution_count": 13,
     "metadata": {},
     "output_type": "execute_result"
    }
   ],
   "source": [
    "df = pd.read_stata(file)\n",
    "df.head()"
   ]
  },
  {
   "cell_type": "code",
   "execution_count": 16,
   "metadata": {
    "collapsed": false
   },
   "outputs": [],
   "source": [
    "df.to_csv('Montgomery_datatemp04.csv')"
   ]
  },
  {
   "cell_type": "code",
   "execution_count": null,
   "metadata": {
    "collapsed": true
   },
   "outputs": [],
   "source": []
  }
 ],
 "metadata": {
  "anaconda-cloud": {},
  "kernelspec": {
   "display_name": "Python [Root]",
   "language": "python",
   "name": "Python [Root]"
  },
  "language_info": {
   "codemirror_mode": {
    "name": "ipython",
    "version": 3
   },
   "file_extension": ".py",
   "mimetype": "text/x-python",
   "name": "python",
   "nbconvert_exporter": "python",
   "pygments_lexer": "ipython3",
   "version": "3.5.2"
  }
 },
 "nbformat": 4,
 "nbformat_minor": 0
}
